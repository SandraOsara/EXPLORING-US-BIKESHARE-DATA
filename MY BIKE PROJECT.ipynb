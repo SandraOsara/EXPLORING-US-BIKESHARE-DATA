{
 "cells": [
  {
   "cell_type": "code",
   "execution_count": 22,
   "metadata": {},
   "outputs": [],
   "source": [
    "import numpy as np\n",
    "import pandas as pd\n",
    "import time"
   ]
  },
  {
   "cell_type": "code",
   "execution_count": 23,
   "metadata": {},
   "outputs": [],
   "source": [
    "CITY_DATA = { 'chicago': 'chicago.csv',\n",
    "              'new york city': 'new_york_city.csv',\n",
    "              'washington': 'washington.csv' }"
   ]
  },
  {
   "cell_type": "code",
   "execution_count": 24,
   "metadata": {},
   "outputs": [],
   "source": [
    "def get_filters():\n",
    "    \n",
    "    \"\"\"\n",
    "    Asks user to specify a city, month, and day to analyze.\n",
    "\n",
    "    Returns:\n",
    "        (str) city - name of the city to analyze\n",
    "        (str) month - name of the month to filter by, or \"all\" to apply no month filter\n",
    "        (str) day - name of the day of week to filter by, or \"all\" to apply no day filter\n",
    "    \"\"\"\n",
    "    \n",
    "    print('Hello! Let\\'s explore some US bikeshare data!')\n",
    "    \n",
    "    available_cities = ['chicago','washington','new york']\n",
    "    while True:\n",
    "        print('Would you like to see data for chicago, new york or washington')\n",
    "        city = input().lower()\n",
    "        if city in available_cities:\n",
    "            break\n",
    "    else:\n",
    "        print('This city is not part of the options available')\n",
    "    \n",
    "    #What would the data be filtered by\n",
    "    print('Would you like to filter the data by month, day, both or not at all? Type \"none\" for no time filter')\n",
    "    input().lower()\n",
    "    \n",
    "    # get user input for month (all, january, february, ... , june)\n",
    "\n",
    "    print('Do you want to analyse all months or a specific month')\n",
    "    month_decision = input('Please enter yes for all and no for a specific month: ').lower()\n",
    "    if month_decision == 'yes':\n",
    "        month = 'all'\n",
    "    else:\n",
    "        month_list = ['january','february','march','april','may','june']\n",
    "        while True:\n",
    "            print('What month would you like to analyse? January, February, March, April, May, or June?...')\n",
    "            month = input().lower()\n",
    "            if month in month_list:\n",
    "                break\n",
    "            else:\n",
    "                print('This month is not part of the options available')\n",
    "        \n",
    "    # get user input for day of week (all, monday, tuesday, ... sunday)\n",
    "    print('Do you want to analyse all days of the week or a specific day')\n",
    "    day_decision = input('Enter yes for all : ')\n",
    "    if day_decision == 'yes':\n",
    "        day = 'all'\n",
    "    else:\n",
    "        while True:\n",
    "            try:\n",
    "                print('What day would you like to analyse? Please type your response as an integer e.g(0 = Sunday)')\n",
    "                day = int(input())\n",
    "                if -1 < day < 7:\n",
    "                    break\n",
    "                else:\n",
    "                    print(\"This is out of range\")\n",
    "            except:\n",
    "                print('This is an invalid day')\n",
    "            \n",
    "    print('-'*40)\n",
    "    return city, month, day"
   ]
  },
  {
   "cell_type": "code",
   "execution_count": 25,
   "metadata": {},
   "outputs": [
    {
     "name": "stdout",
     "output_type": "stream",
     "text": [
      "Hello! Let's explore some US bikeshare data!\n",
      "Would you like to see data for chicago, new york or washington\n",
      "chicago\n",
      "Would you like to filter the data by month, day, both or not at all? Type \"none\" for no time filter\n",
      "both\n",
      "Do you want to analyse all months or a specific month\n",
      "Please enter yes for all and no for a specific month: yes\n",
      "Do you want to analyse all days of the week or a specific day\n",
      "Enter yes for all : yes\n",
      "----------------------------------------\n"
     ]
    }
   ],
   "source": [
    "city, month, day = get_filters()"
   ]
  },
  {
   "cell_type": "code",
   "execution_count": 26,
   "metadata": {},
   "outputs": [
    {
     "data": {
      "text/plain": [
       "'chicago'"
      ]
     },
     "execution_count": 26,
     "metadata": {},
     "output_type": "execute_result"
    }
   ],
   "source": [
    "city"
   ]
  },
  {
   "cell_type": "code",
   "execution_count": 27,
   "metadata": {},
   "outputs": [
    {
     "data": {
      "text/plain": [
       "'all'"
      ]
     },
     "execution_count": 27,
     "metadata": {},
     "output_type": "execute_result"
    }
   ],
   "source": [
    "month"
   ]
  },
  {
   "cell_type": "code",
   "execution_count": 28,
   "metadata": {},
   "outputs": [
    {
     "data": {
      "text/plain": [
       "'all'"
      ]
     },
     "execution_count": 28,
     "metadata": {},
     "output_type": "execute_result"
    }
   ],
   "source": [
    "day"
   ]
  },
  {
   "cell_type": "code",
   "execution_count": 29,
   "metadata": {},
   "outputs": [],
   "source": [
    "def load_data(city, month, day):\n",
    "    df = pd.read_csv(CITY_DATA[city])\n",
    "    df['Start Time'] = pd.to_datetime(df['Start Time'])\n",
    "    df['month'] = df['Start Time'].dt.month\n",
    "    df['day_of_week'] = df['Start Time'].dt.weekday_name\n",
    "    df['hour'] = df['Start Time'].dt.hour\n",
    "    non_index = {'january':1,'february':2,'march':3,'april':4,'may':5,'june':6}\n",
    "    if month != 'all':\n",
    "        df = df.loc[df['month'] == non_index[month]]\n",
    "    else:\n",
    "        return df\n",
    "    day_index = {0:'Sunday',1:'Monday',2:'Tuesday',3:'Wednesday',4:'Thursday',5:'Friday',6:'Saturday'}\n",
    "    if day != 'all':\n",
    "        df = df.loc[df['day_of_week'] == day_index[day]]\n",
    "    else:\n",
    "        return df\n",
    "    return df"
   ]
  },
  {
   "cell_type": "code",
   "execution_count": 30,
   "metadata": {},
   "outputs": [],
   "source": [
    "df = load_data(city,month,day)"
   ]
  },
  {
   "cell_type": "code",
   "execution_count": 31,
   "metadata": {},
   "outputs": [
    {
     "data": {
      "text/html": [
       "<div>\n",
       "<style scoped>\n",
       "    .dataframe tbody tr th:only-of-type {\n",
       "        vertical-align: middle;\n",
       "    }\n",
       "\n",
       "    .dataframe tbody tr th {\n",
       "        vertical-align: top;\n",
       "    }\n",
       "\n",
       "    .dataframe thead th {\n",
       "        text-align: right;\n",
       "    }\n",
       "</style>\n",
       "<table border=\"1\" class=\"dataframe\">\n",
       "  <thead>\n",
       "    <tr style=\"text-align: right;\">\n",
       "      <th></th>\n",
       "      <th>Unnamed: 0</th>\n",
       "      <th>Start Time</th>\n",
       "      <th>End Time</th>\n",
       "      <th>Trip Duration</th>\n",
       "      <th>Start Station</th>\n",
       "      <th>End Station</th>\n",
       "      <th>User Type</th>\n",
       "      <th>Gender</th>\n",
       "      <th>Birth Year</th>\n",
       "      <th>month</th>\n",
       "      <th>day_of_week</th>\n",
       "      <th>hour</th>\n",
       "    </tr>\n",
       "  </thead>\n",
       "  <tbody>\n",
       "    <tr>\n",
       "      <th>0</th>\n",
       "      <td>1423854</td>\n",
       "      <td>2017-06-23 15:09:32</td>\n",
       "      <td>2017-06-23 15:14:53</td>\n",
       "      <td>321</td>\n",
       "      <td>Wood St &amp; Hubbard St</td>\n",
       "      <td>Damen Ave &amp; Chicago Ave</td>\n",
       "      <td>Subscriber</td>\n",
       "      <td>Male</td>\n",
       "      <td>1992.0</td>\n",
       "      <td>6</td>\n",
       "      <td>Friday</td>\n",
       "      <td>15</td>\n",
       "    </tr>\n",
       "    <tr>\n",
       "      <th>1</th>\n",
       "      <td>955915</td>\n",
       "      <td>2017-05-25 18:19:03</td>\n",
       "      <td>2017-05-25 18:45:53</td>\n",
       "      <td>1610</td>\n",
       "      <td>Theater on the Lake</td>\n",
       "      <td>Sheffield Ave &amp; Waveland Ave</td>\n",
       "      <td>Subscriber</td>\n",
       "      <td>Female</td>\n",
       "      <td>1992.0</td>\n",
       "      <td>5</td>\n",
       "      <td>Thursday</td>\n",
       "      <td>18</td>\n",
       "    </tr>\n",
       "    <tr>\n",
       "      <th>2</th>\n",
       "      <td>9031</td>\n",
       "      <td>2017-01-04 08:27:49</td>\n",
       "      <td>2017-01-04 08:34:45</td>\n",
       "      <td>416</td>\n",
       "      <td>May St &amp; Taylor St</td>\n",
       "      <td>Wood St &amp; Taylor St</td>\n",
       "      <td>Subscriber</td>\n",
       "      <td>Male</td>\n",
       "      <td>1981.0</td>\n",
       "      <td>1</td>\n",
       "      <td>Wednesday</td>\n",
       "      <td>8</td>\n",
       "    </tr>\n",
       "    <tr>\n",
       "      <th>3</th>\n",
       "      <td>304487</td>\n",
       "      <td>2017-03-06 13:49:38</td>\n",
       "      <td>2017-03-06 13:55:28</td>\n",
       "      <td>350</td>\n",
       "      <td>Christiana Ave &amp; Lawrence Ave</td>\n",
       "      <td>St. Louis Ave &amp; Balmoral Ave</td>\n",
       "      <td>Subscriber</td>\n",
       "      <td>Male</td>\n",
       "      <td>1986.0</td>\n",
       "      <td>3</td>\n",
       "      <td>Monday</td>\n",
       "      <td>13</td>\n",
       "    </tr>\n",
       "    <tr>\n",
       "      <th>4</th>\n",
       "      <td>45207</td>\n",
       "      <td>2017-01-17 14:53:07</td>\n",
       "      <td>2017-01-17 15:02:01</td>\n",
       "      <td>534</td>\n",
       "      <td>Clark St &amp; Randolph St</td>\n",
       "      <td>Desplaines St &amp; Jackson Blvd</td>\n",
       "      <td>Subscriber</td>\n",
       "      <td>Male</td>\n",
       "      <td>1975.0</td>\n",
       "      <td>1</td>\n",
       "      <td>Tuesday</td>\n",
       "      <td>14</td>\n",
       "    </tr>\n",
       "  </tbody>\n",
       "</table>\n",
       "</div>"
      ],
      "text/plain": [
       "   Unnamed: 0          Start Time             End Time  Trip Duration  \\\n",
       "0     1423854 2017-06-23 15:09:32  2017-06-23 15:14:53            321   \n",
       "1      955915 2017-05-25 18:19:03  2017-05-25 18:45:53           1610   \n",
       "2        9031 2017-01-04 08:27:49  2017-01-04 08:34:45            416   \n",
       "3      304487 2017-03-06 13:49:38  2017-03-06 13:55:28            350   \n",
       "4       45207 2017-01-17 14:53:07  2017-01-17 15:02:01            534   \n",
       "\n",
       "                   Start Station                   End Station   User Type  \\\n",
       "0           Wood St & Hubbard St       Damen Ave & Chicago Ave  Subscriber   \n",
       "1            Theater on the Lake  Sheffield Ave & Waveland Ave  Subscriber   \n",
       "2             May St & Taylor St           Wood St & Taylor St  Subscriber   \n",
       "3  Christiana Ave & Lawrence Ave  St. Louis Ave & Balmoral Ave  Subscriber   \n",
       "4         Clark St & Randolph St  Desplaines St & Jackson Blvd  Subscriber   \n",
       "\n",
       "   Gender  Birth Year  month day_of_week  hour  \n",
       "0    Male      1992.0      6      Friday    15  \n",
       "1  Female      1992.0      5    Thursday    18  \n",
       "2    Male      1981.0      1   Wednesday     8  \n",
       "3    Male      1986.0      3      Monday    13  \n",
       "4    Male      1975.0      1     Tuesday    14  "
      ]
     },
     "execution_count": 31,
     "metadata": {},
     "output_type": "execute_result"
    }
   ],
   "source": [
    "df.head()"
   ]
  },
  {
   "cell_type": "code",
   "execution_count": 32,
   "metadata": {},
   "outputs": [],
   "source": [
    "def time_stats(df):\n",
    "    \"\"\"Displays statistics on the most frequent times of travel.\"\"\"\n",
    "\n",
    "    print('\\nCalculating The Most Frequent Times of Travel...\\n')\n",
    "    start_time = time.time()\n",
    "\n",
    "    # display the most common month\n",
    "    most_common_month = df['month'].mode()[0]\n",
    "    print(\"the most common month is {}\".format(most_common_month))\n",
    "\n",
    "    # display the most common day of week\n",
    "    most_common_day = df['day_of_week'].mode()[0]\n",
    "    print(\"the most common day of week is {}\".format(most_common_day))\n",
    "\n",
    "    # display the most common start hour\n",
    "    most_common_Starthour = df['hour'].mode()[0]\n",
    "    print(\"the most common start hour {}\".format(most_common_Starthour))\n",
    "\n",
    "    print(\"\\nThis took %s seconds.\" % (time.time() - start_time))\n",
    "    print('-'*40)\n"
   ]
  },
  {
   "cell_type": "code",
   "execution_count": 33,
   "metadata": {
    "scrolled": true
   },
   "outputs": [
    {
     "name": "stdout",
     "output_type": "stream",
     "text": [
      "\n",
      "Calculating The Most Frequent Times of Travel...\n",
      "\n",
      "the most common month is 6\n",
      "the most common day of week is Tuesday\n",
      "the most common start hour 17\n",
      "\n",
      "This took 0.2318108081817627 seconds.\n",
      "----------------------------------------\n"
     ]
    }
   ],
   "source": [
    "time_stats(df)"
   ]
  },
  {
   "cell_type": "code",
   "execution_count": 34,
   "metadata": {},
   "outputs": [],
   "source": [
    "def station_stats(df):\n",
    "    \"\"\"Displays statistics on the most popular stations and trip.\"\"\"\n",
    "\n",
    "    print('\\nCalculating The Most Popular Stations and Trip...\\n')\n",
    "    start_time = time.time()\n",
    "\n",
    "    # display most commonly used start station\n",
    "    most_used_start_station = df['Start Station'].mode()[0]\n",
    "    print(\"the most commonly used start station is {}\".format(most_used_start_station))\n",
    "\n",
    "    # display most commonly used end station\n",
    "    most_used_end_station = df['End Station'].mode()[0]\n",
    "    print(\"the most commonly used end station is {}\".format(most_used_end_station))\n",
    "\n",
    "    # display most frequent combination of start station and end station trip\n",
    "    df['start-End Station'] = df['Start Station'] + \"-\" + df['End Station']\n",
    "    most_frequent_combo = df['start-End Station'].mode()[0]\n",
    "    print(\"the most frequent combo is {}\".format(most_frequent_combo))\n",
    "    \n",
    "    print(\"\\nThis took %s seconds.\" % (time.time() - start_time))\n",
    "    print('-'*40)\n"
   ]
  },
  {
   "cell_type": "code",
   "execution_count": 35,
   "metadata": {},
   "outputs": [
    {
     "name": "stdout",
     "output_type": "stream",
     "text": [
      "\n",
      "Calculating The Most Popular Stations and Trip...\n",
      "\n",
      "the most commonly used start station is Streeter Dr & Grand Ave\n",
      "the most commonly used end station is Streeter Dr & Grand Ave\n",
      "the most frequent combo is Lake Shore Dr & Monroe St-Streeter Dr & Grand Ave\n",
      "\n",
      "This took 1.0026895999908447 seconds.\n",
      "----------------------------------------\n"
     ]
    }
   ],
   "source": [
    "station_stats(df)"
   ]
  },
  {
   "cell_type": "code",
   "execution_count": 36,
   "metadata": {},
   "outputs": [],
   "source": [
    "def trip_duration_stats(df):\n",
    "    \"\"\"Displays statistics on the total and average trip duration.\"\"\"\n",
    "\n",
    "    print('\\nCalculating Trip Duration...\\n')\n",
    "    start_time = time.time()\n",
    "\n",
    "    # display total travel time\n",
    "    total_travel_time = df['Trip Duration'].sum()\n",
    "    print(\"the total travel time is {}\".format(total_travel_time))\n",
    "    \n",
    "    # display mean travel time\n",
    "    mean_travel_time = df['Trip Duration'].mean()\n",
    "    print(\"the mean travel time is {}\".format(mean_travel_time))\n",
    "    \n",
    "    print(\"\\nThis took %s seconds.\" % (time.time() - start_time))\n",
    "    print('-'*40)"
   ]
  },
  {
   "cell_type": "code",
   "execution_count": 37,
   "metadata": {},
   "outputs": [
    {
     "name": "stdout",
     "output_type": "stream",
     "text": [
      "\n",
      "Calculating Trip Duration...\n",
      "\n",
      "the total travel time is 280871787\n",
      "the mean travel time is 936.23929\n",
      "\n",
      "This took 0.022156476974487305 seconds.\n",
      "----------------------------------------\n"
     ]
    }
   ],
   "source": [
    "trip_duration_stats(df)"
   ]
  },
  {
   "cell_type": "code",
   "execution_count": 38,
   "metadata": {},
   "outputs": [],
   "source": [
    "def user_stats(df):\n",
    "    \"\"\"Displays statistics on bikeshare users.\"\"\"\n",
    "\n",
    "    print('\\nCalculating User Stats...\\n')\n",
    "    start_time = time.time()\n",
    "\n",
    "    # Display counts of user types\n",
    "    user_types_count = df['User Type'].value_counts()\n",
    "    print(user_types_count)\n",
    "    \n",
    "    # Display counts of gender\n",
    "    if 'Gender' in df.columns:\n",
    "        gender_count = df['Gender'].value_counts()\n",
    "        print(gender_count)\n",
    "    else:\n",
    "        print('No data for gender')\n",
    "        \n",
    "    # Display earliest, most recent, and most common year of birth\n",
    "    if 'Birth Year' in df.columns:\n",
    "        earliest_yob = df['Birth Year'].min()\n",
    "        print(\"the earliest year of birth is {}\".format(earliest_yob))\n",
    "        \n",
    "        most_recent_yob = df['Birth Year'].max()\n",
    "        print(\"the most recent year of birth is {}\".format(most_recent_yob))\n",
    "        \n",
    "        most_common_yob = df['Birth Year'].mode()\n",
    "        print(\"the most common year of birth is {}\".format(most_common_yob))\n",
    "        \n",
    "    else:\n",
    "        print('No data for birth year')\n",
    "        \n",
    "    \n",
    "    print(\"\\nThis took %s seconds.\" % (time.time() - start_time))\n",
    "    print('-'*40)\n"
   ]
  },
  {
   "cell_type": "code",
   "execution_count": 39,
   "metadata": {},
   "outputs": [
    {
     "name": "stdout",
     "output_type": "stream",
     "text": [
      "\n",
      "Calculating User Stats...\n",
      "\n",
      "Subscriber    238889\n",
      "Customer       61110\n",
      "Dependent          1\n",
      "Name: User Type, dtype: int64\n",
      "Male      181190\n",
      "Female     57758\n",
      "Name: Gender, dtype: int64\n",
      "the earliest year of birth is 1899.0\n",
      "the most recent year of birth is 2016.0\n",
      "the most common year of birth is 0    1989.0\n",
      "dtype: float64\n",
      "\n",
      "This took 0.75527024269104 seconds.\n",
      "----------------------------------------\n"
     ]
    }
   ],
   "source": [
    "user_stats(df)"
   ]
  },
  {
   "cell_type": "code",
   "execution_count": 47,
   "metadata": {},
   "outputs": [],
   "source": [
    "def display_data(df):\n",
    "    \n",
    "    print('\\nRaw data is available to check....\\n')\n",
    "    \n",
    "    i=0\n",
    "    user_input =input('Would you like to display 5 rows of raw data?, Please type yes or no ').lower()\n",
    "    if user_input not in['yes','no']:\n",
    "        print('That is an invalid choice, Kindly type yes or no')\n",
    "        user_input =input('Would you like to display 5 rows of raw data?, Please type yes or no ').lower()\n",
    "    elif user_input != 'yes':\n",
    "        print('Thank you')\n",
    "    else:\n",
    "        while i+5 < df.shape[0]:\n",
    "            \n",
    "            print(df.iloc[i:i+5])\n",
    "            i += 5\n",
    "            user_input =input('Would you like to display more 5 rows of raw data?, Please type yes or no ').lower()\n",
    "            if user_input != 'yes':\n",
    "                print('Thank You')\n",
    "                break"
   ]
  },
  {
   "cell_type": "code",
   "execution_count": 48,
   "metadata": {
    "scrolled": true
   },
   "outputs": [
    {
     "name": "stdout",
     "output_type": "stream",
     "text": [
      "Hello! Let's explore some US bikeshare data!\n",
      "Would you like to see data for chicago, new york or washington\n",
      "chicago\n",
      "Would you like to filter the data by month, day, both or not at all? Type \"none\" for no time filter\n",
      "both\n",
      "Do you want to analyse all months or a specific month\n",
      "Please enter yes for all and no for a specific month: no\n",
      "What month would you like to analyse? January, February, March, April, May, or June?...\n",
      "may\n",
      "Do you want to analyse all days of the week or a specific day\n",
      "Enter yes for all : no\n",
      "What day would you like to analyse? Please type your response as an integer e.g(0 = Sunday)\n",
      "5\n",
      "----------------------------------------\n",
      "\n",
      "Calculating The Most Frequent Times of Travel...\n",
      "\n",
      "the most common month is 5\n",
      "the most common day of week is Friday\n",
      "the most common start hour 8\n",
      "\n",
      "This took 0.02022576332092285 seconds.\n",
      "----------------------------------------\n",
      "\n",
      "Calculating The Most Popular Stations and Trip...\n",
      "\n",
      "the most commonly used start station is Clinton St & Washington Blvd\n",
      "the most commonly used end station is Streeter Dr & Grand Ave\n",
      "the most frequent combo is Lake Shore Dr & Monroe St-Streeter Dr & Grand Ave\n",
      "\n",
      "This took 0.13159513473510742 seconds.\n",
      "----------------------------------------\n",
      "\n",
      "Calculating Trip Duration...\n",
      "\n",
      "the total travel time is 5731462\n",
      "the mean travel time is 808.3867418899858\n",
      "\n",
      "This took 0.0 seconds.\n",
      "----------------------------------------\n",
      "\n",
      "Calculating User Stats...\n",
      "\n",
      "Subscriber    6140\n",
      "Customer       950\n",
      "Name: User Type, dtype: int64\n",
      "Male      4732\n",
      "Female    1412\n",
      "Name: Gender, dtype: int64\n",
      "the earliest year of birth is 1900.0\n",
      "the most recent year of birth is 2016.0\n",
      "the most common year of birth is 0    1989.0\n",
      "dtype: float64\n",
      "\n",
      "This took 0.033705949783325195 seconds.\n",
      "----------------------------------------\n",
      "\n",
      "Raw data is available to check....\n",
      "\n",
      "Would you like to display 5 rows of raw data?, Please type yes or no yes\n",
      "     Unnamed: 0          Start Time             End Time  Trip Duration  \\\n",
      "6        961916 2017-05-26 09:41:44  2017-05-26 09:46:25            281   \n",
      "53       959864 2017-05-26 07:31:20  2017-05-26 07:38:57            457   \n",
      "66       739835 2017-05-05 17:49:23  2017-05-05 18:00:34            671   \n",
      "77       959137 2017-05-26 06:04:08  2017-05-26 06:08:21            253   \n",
      "115      803235 2017-05-12 16:52:32  2017-05-12 17:05:50            798   \n",
      "\n",
      "                    Start Station               End Station   User Type  \\\n",
      "6           Ashland Ave & Lake St      Wood St & Hubbard St  Subscriber   \n",
      "53   Clinton St & Washington Blvd      State St & Kinzie St  Subscriber   \n",
      "66           Clinton St & Lake St      Ogden Ave & Race Ave  Subscriber   \n",
      "77   Financial Pl & Congress Pkwy  Canal St & Monroe St (*)  Subscriber   \n",
      "115         Franklin St & Lake St  Wells St & Evergreen Ave  Subscriber   \n",
      "\n",
      "     Gender  Birth Year  month day_of_week  hour  \\\n",
      "6    Female      1983.0      5      Friday     9   \n",
      "53   Female      1967.0      5      Friday     7   \n",
      "66     Male      1991.0      5      Friday    17   \n",
      "77     Male      1963.0      5      Friday     6   \n",
      "115    Male      1991.0      5      Friday    16   \n",
      "\n",
      "                                     start-End Station  \n",
      "6           Ashland Ave & Lake St-Wood St & Hubbard St  \n",
      "53   Clinton St & Washington Blvd-State St & Kinzie St  \n",
      "66           Clinton St & Lake St-Ogden Ave & Race Ave  \n",
      "77   Financial Pl & Congress Pkwy-Canal St & Monroe...  \n",
      "115     Franklin St & Lake St-Wells St & Evergreen Ave  \n",
      "Would you like to display more 5 rows of raw data?, Please type yes or no yes\n",
      "     Unnamed: 0          Start Time             End Time  Trip Duration  \\\n",
      "131      962850 2017-05-26 11:29:54  2017-05-26 11:44:52            898   \n",
      "144      794580 2017-05-12 05:51:22  2017-05-12 05:58:36            434   \n",
      "207      899010 2017-05-19 18:55:02  2017-05-19 19:11:22            980   \n",
      "217      898201 2017-05-19 17:15:17  2017-05-19 17:28:50            813   \n",
      "238      959056 2017-05-26 05:32:41  2017-05-26 05:37:00            259   \n",
      "\n",
      "                           Start Station                    End Station  \\\n",
      "131  Orleans St & Merchandise Mart Plaza      Bissell St & Armitage Ave   \n",
      "144         Ashland Ave & Wrightwood Ave  Sheffield Ave & Fullerton Ave   \n",
      "207                Rush St & Superior St            Canal St & Adams St   \n",
      "217                 McClurg Ct & Erie St      Milwaukee Ave & Grand Ave   \n",
      "238            Bissell St & Armitage Ave   Marshfield Ave & Cortland St   \n",
      "\n",
      "      User Type  Gender  Birth Year  month day_of_week  hour  \\\n",
      "131  Subscriber    Male      1993.0      5      Friday    11   \n",
      "144  Subscriber    Male      1990.0      5      Friday     5   \n",
      "207  Subscriber  Female      1962.0      5      Friday    18   \n",
      "217  Subscriber    Male      1970.0      5      Friday    17   \n",
      "238  Subscriber    Male      1993.0      5      Friday     5   \n",
      "\n",
      "                                     start-End Station  \n",
      "131  Orleans St & Merchandise Mart Plaza-Bissell St...  \n",
      "144  Ashland Ave & Wrightwood Ave-Sheffield Ave & F...  \n",
      "207          Rush St & Superior St-Canal St & Adams St  \n",
      "217     McClurg Ct & Erie St-Milwaukee Ave & Grand Ave  \n",
      "238  Bissell St & Armitage Ave-Marshfield Ave & Cor...  \n",
      "Would you like to display more 5 rows of raw data?, Please type yes or no no\n",
      "Thank You\n",
      "\n",
      "Would you like to restart? Enter yes or no.\n",
      "no\n"
     ]
    }
   ],
   "source": [
    "\n",
    "def main():\n",
    "    while True:\n",
    "        city, month, day = get_filters()\n",
    "        df = load_data(city, month, day)\n",
    "\n",
    "        time_stats(df)\n",
    "        station_stats(df)\n",
    "        trip_duration_stats(df)\n",
    "        user_stats(df)\n",
    "        display_data(df)\n",
    "        \n",
    "        restart = input('\\nWould you like to restart? Enter yes or no.\\n')\n",
    "        if restart.lower() != 'yes':\n",
    "            break\n",
    "\n",
    "\n",
    "if __name__ == \"__main__\":\n",
    "\tmain()\n"
   ]
  },
  {
   "cell_type": "code",
   "execution_count": null,
   "metadata": {},
   "outputs": [],
   "source": []
  }
 ],
 "metadata": {
  "kernelspec": {
   "display_name": "Python 3 (ipykernel)",
   "language": "python",
   "name": "python3"
  },
  "language_info": {
   "codemirror_mode": {
    "name": "ipython",
    "version": 3
   },
   "file_extension": ".py",
   "mimetype": "text/x-python",
   "name": "python",
   "nbconvert_exporter": "python",
   "pygments_lexer": "ipython3",
   "version": "3.9.12"
  }
 },
 "nbformat": 4,
 "nbformat_minor": 2
}
